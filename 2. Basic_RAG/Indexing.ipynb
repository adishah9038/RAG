{
 "cells": [
  {
   "cell_type": "markdown",
   "metadata": {},
   "source": [
    "### Os, Sync, Env"
   ]
  },
  {
   "cell_type": "code",
   "execution_count": 1,
   "metadata": {},
   "outputs": [],
   "source": [
    "import os\n",
    "import dotenv\n",
    "dotenv.load_dotenv(dotenv_path=\"../.env\")\n",
    "import nest_asyncio\n",
    "nest_asyncio.apply()"
   ]
  },
  {
   "cell_type": "markdown",
   "metadata": {},
   "source": [
    "### LLM & EMBEDDING MODEL"
   ]
  },
  {
   "cell_type": "code",
   "execution_count": 2,
   "metadata": {},
   "outputs": [
    {
     "name": "stderr",
     "output_type": "stream",
     "text": [
      "d:\\Learning New\\GenAI\\Project_RAG\\RAG\\.venv\\Lib\\site-packages\\tqdm\\auto.py:21: TqdmWarning: IProgress not found. Please update jupyter and ipywidgets. See https://ipywidgets.readthedocs.io/en/stable/user_install.html\n",
      "  from .autonotebook import tqdm as notebook_tqdm\n",
      "None of PyTorch, TensorFlow >= 2.0, or Flax have been found. Models won't be available and only tokenizers, configuration and file/data utilities can be used.\n"
     ]
    },
    {
     "name": "stdout",
     "output_type": "stream",
     "text": [
      "Groq: Hi! It's nice to meet you. Is there something I can help you with or would you like to chat?\n",
      "Cohere:  Hello! Welcome to the conversation, How can I help you with anything? \n"
     ]
    },
    {
     "name": "stderr",
     "output_type": "stream",
     "text": [
      "Fetching 5 files: 100%|██████████| 5/5 [00:00<?, ?it/s]\n"
     ]
    }
   ],
   "source": [
    "# GROQ\n",
    "QROQ_API_KEY = os.environ['GROQ_API_KEY_1']\n",
    "from llama_index.llms.groq import Groq\n",
    "groq_llm = Groq(model=\"llama3-8b-8192\", api_key = QROQ_API_KEY, set_run_config=None)\n",
    "print(\"Groq: \"+str(groq_llm.complete(\"Hi\")))\n",
    "# Cohere\n",
    "CO_API_KEY = os.environ['COHERE_API_KEY']\n",
    "from llama_index.llms.cohere import Cohere\n",
    "cohere_llm = Cohere(model=\"command-light\",api_key=CO_API_KEY)\n",
    "print(\"Cohere: \"+str(cohere_llm.complete(\"Hi\")))\n",
    "# Fast Embed\n",
    "from llama_index.embeddings.fastembed import FastEmbedEmbedding\n",
    "fast_embed = FastEmbedEmbedding(model_name=\"BAAI/bge-base-en-v1.5\")"
   ]
  },
  {
   "cell_type": "markdown",
   "metadata": {},
   "source": [
    "### SETTINGS"
   ]
  },
  {
   "cell_type": "code",
   "execution_count": 3,
   "metadata": {},
   "outputs": [],
   "source": [
    "from llama_index.core.settings import Settings\n",
    "Settings.llm = groq_llm\n",
    "Settings.embed_model = fast_embed"
   ]
  },
  {
   "cell_type": "markdown",
   "metadata": {},
   "source": [
    "### LOADING DOCS FROM PERSISTED DOC STORE"
   ]
  },
  {
   "cell_type": "code",
   "execution_count": 4,
   "metadata": {},
   "outputs": [],
   "source": [
    "from llama_index.core.storage.docstore import SimpleDocumentStore\n",
    "docstore = SimpleDocumentStore.from_persist_dir(persist_dir=\"D:/Learning New/GenAI/Project_RAG/RAG/1. Data/doc_store\")\n",
    "documents = list(docstore.docs.values())"
   ]
  },
  {
   "cell_type": "markdown",
   "metadata": {},
   "source": [
    "### INDEXING (From document)"
   ]
  },
  {
   "cell_type": "code",
   "execution_count": 5,
   "metadata": {},
   "outputs": [
    {
     "name": "stderr",
     "output_type": "stream",
     "text": [
      "Parsing nodes: 100%|██████████| 49/49 [00:00<00:00, 3499.24it/s]\n",
      "Generating embeddings: 100%|██████████| 49/49 [00:09<00:00,  4.93it/s]\n"
     ]
    }
   ],
   "source": [
    "from llama_index.core import Document, VectorStoreIndex\n",
    "index = VectorStoreIndex.from_documents(\n",
    "    # remember, you must pass a list of documents!\n",
    "    documents, \n",
    "    embed_model=Settings.embed_model,\n",
    "    show_progress=True)"
   ]
  },
  {
   "cell_type": "markdown",
   "metadata": {},
   "source": [
    "### INDEXING (From nodes)"
   ]
  },
  {
   "cell_type": "code",
   "execution_count": 7,
   "metadata": {},
   "outputs": [
    {
     "name": "stdout",
     "output_type": "stream",
     "text": [
      "Metadata length (30) is close to chunk size (64). Resulting chunks are less than 50 tokens. Consider increasing the chunk size or decreasing the size of your metadata to avoid this.\n",
      "Metadata length (26) is close to chunk size (64). Resulting chunks are less than 50 tokens. Consider increasing the chunk size or decreasing the size of your metadata to avoid this.\n",
      "Metadata length (29) is close to chunk size (64). Resulting chunks are less than 50 tokens. Consider increasing the chunk size or decreasing the size of your metadata to avoid this.\n",
      "Metadata length (29) is close to chunk size (64). Resulting chunks are less than 50 tokens. Consider increasing the chunk size or decreasing the size of your metadata to avoid this.\n",
      "Metadata length (21) is close to chunk size (64). Resulting chunks are less than 50 tokens. Consider increasing the chunk size or decreasing the size of your metadata to avoid this.\n",
      "Metadata length (25) is close to chunk size (64). Resulting chunks are less than 50 tokens. Consider increasing the chunk size or decreasing the size of your metadata to avoid this.\n",
      "Metadata length (21) is close to chunk size (64). Resulting chunks are less than 50 tokens. Consider increasing the chunk size or decreasing the size of your metadata to avoid this.\n",
      "Metadata length (25) is close to chunk size (64). Resulting chunks are less than 50 tokens. Consider increasing the chunk size or decreasing the size of your metadata to avoid this.\n",
      "Metadata length (28) is close to chunk size (64). Resulting chunks are less than 50 tokens. Consider increasing the chunk size or decreasing the size of your metadata to avoid this.\n",
      "Metadata length (23) is close to chunk size (64). Resulting chunks are less than 50 tokens. Consider increasing the chunk size or decreasing the size of your metadata to avoid this.\n",
      "Metadata length (23) is close to chunk size (64). Resulting chunks are less than 50 tokens. Consider increasing the chunk size or decreasing the size of your metadata to avoid this.\n",
      "Metadata length (23) is close to chunk size (64). Resulting chunks are less than 50 tokens. Consider increasing the chunk size or decreasing the size of your metadata to avoid this.\n",
      "Metadata length (23) is close to chunk size (64). Resulting chunks are less than 50 tokens. Consider increasing the chunk size or decreasing the size of your metadata to avoid this.\n",
      "Metadata length (23) is close to chunk size (64). Resulting chunks are less than 50 tokens. Consider increasing the chunk size or decreasing the size of your metadata to avoid this.\n",
      "Metadata length (23) is close to chunk size (64). Resulting chunks are less than 50 tokens. Consider increasing the chunk size or decreasing the size of your metadata to avoid this.\n",
      "Metadata length (19) is close to chunk size (64). Resulting chunks are less than 50 tokens. Consider increasing the chunk size or decreasing the size of your metadata to avoid this.\n",
      "Metadata length (25) is close to chunk size (64). Resulting chunks are less than 50 tokens. Consider increasing the chunk size or decreasing the size of your metadata to avoid this.\n",
      "Metadata length (19) is close to chunk size (64). Resulting chunks are less than 50 tokens. Consider increasing the chunk size or decreasing the size of your metadata to avoid this.\n",
      "Metadata length (19) is close to chunk size (64). Resulting chunks are less than 50 tokens. Consider increasing the chunk size or decreasing the size of your metadata to avoid this.\n",
      "Metadata length (23) is close to chunk size (64). Resulting chunks are less than 50 tokens. Consider increasing the chunk size or decreasing the size of your metadata to avoid this.\n",
      "Metadata length (24) is close to chunk size (64). Resulting chunks are less than 50 tokens. Consider increasing the chunk size or decreasing the size of your metadata to avoid this.\n",
      "Metadata length (29) is close to chunk size (64). Resulting chunks are less than 50 tokens. Consider increasing the chunk size or decreasing the size of your metadata to avoid this.\n",
      "Metadata length (24) is close to chunk size (64). Resulting chunks are less than 50 tokens. Consider increasing the chunk size or decreasing the size of your metadata to avoid this.\n",
      "Metadata length (28) is close to chunk size (64). Resulting chunks are less than 50 tokens. Consider increasing the chunk size or decreasing the size of your metadata to avoid this.\n",
      "Metadata length (24) is close to chunk size (64). Resulting chunks are less than 50 tokens. Consider increasing the chunk size or decreasing the size of your metadata to avoid this.\n",
      "Metadata length (19) is close to chunk size (64). Resulting chunks are less than 50 tokens. Consider increasing the chunk size or decreasing the size of your metadata to avoid this.\n",
      "Metadata length (20) is close to chunk size (64). Resulting chunks are less than 50 tokens. Consider increasing the chunk size or decreasing the size of your metadata to avoid this.\n",
      "Metadata length (20) is close to chunk size (64). Resulting chunks are less than 50 tokens. Consider increasing the chunk size or decreasing the size of your metadata to avoid this.\n",
      "Metadata length (20) is close to chunk size (64). Resulting chunks are less than 50 tokens. Consider increasing the chunk size or decreasing the size of your metadata to avoid this.\n",
      "Metadata length (20) is close to chunk size (64). Resulting chunks are less than 50 tokens. Consider increasing the chunk size or decreasing the size of your metadata to avoid this.\n",
      "Metadata length (20) is close to chunk size (64). Resulting chunks are less than 50 tokens. Consider increasing the chunk size or decreasing the size of your metadata to avoid this.\n",
      "Metadata length (20) is close to chunk size (64). Resulting chunks are less than 50 tokens. Consider increasing the chunk size or decreasing the size of your metadata to avoid this.\n",
      "Metadata length (20) is close to chunk size (64). Resulting chunks are less than 50 tokens. Consider increasing the chunk size or decreasing the size of your metadata to avoid this.\n",
      "Metadata length (20) is close to chunk size (64). Resulting chunks are less than 50 tokens. Consider increasing the chunk size or decreasing the size of your metadata to avoid this.\n",
      "Metadata length (20) is close to chunk size (64). Resulting chunks are less than 50 tokens. Consider increasing the chunk size or decreasing the size of your metadata to avoid this.\n",
      "Metadata length (42) is close to chunk size (64). Resulting chunks are less than 50 tokens. Consider increasing the chunk size or decreasing the size of your metadata to avoid this.\n",
      "Metadata length (42) is close to chunk size (64). Resulting chunks are less than 50 tokens. Consider increasing the chunk size or decreasing the size of your metadata to avoid this.\n",
      "Metadata length (42) is close to chunk size (64). Resulting chunks are less than 50 tokens. Consider increasing the chunk size or decreasing the size of your metadata to avoid this.\n",
      "Metadata length (42) is close to chunk size (64). Resulting chunks are less than 50 tokens. Consider increasing the chunk size or decreasing the size of your metadata to avoid this.\n",
      "Metadata length (35) is close to chunk size (64). Resulting chunks are less than 50 tokens. Consider increasing the chunk size or decreasing the size of your metadata to avoid this.\n",
      "Metadata length (23) is close to chunk size (64). Resulting chunks are less than 50 tokens. Consider increasing the chunk size or decreasing the size of your metadata to avoid this.\n",
      "Metadata length (25) is close to chunk size (64). Resulting chunks are less than 50 tokens. Consider increasing the chunk size or decreasing the size of your metadata to avoid this.\n",
      "Metadata length (33) is close to chunk size (64). Resulting chunks are less than 50 tokens. Consider increasing the chunk size or decreasing the size of your metadata to avoid this.\n",
      "Metadata length (24) is close to chunk size (64). Resulting chunks are less than 50 tokens. Consider increasing the chunk size or decreasing the size of your metadata to avoid this.\n",
      "Metadata length (24) is close to chunk size (64). Resulting chunks are less than 50 tokens. Consider increasing the chunk size or decreasing the size of your metadata to avoid this.\n",
      "Metadata length (24) is close to chunk size (64). Resulting chunks are less than 50 tokens. Consider increasing the chunk size or decreasing the size of your metadata to avoid this.\n",
      "Metadata length (20) is close to chunk size (64). Resulting chunks are less than 50 tokens. Consider increasing the chunk size or decreasing the size of your metadata to avoid this.\n",
      "Metadata length (28) is close to chunk size (64). Resulting chunks are less than 50 tokens. Consider increasing the chunk size or decreasing the size of your metadata to avoid this.\n"
     ]
    },
    {
     "name": "stderr",
     "output_type": "stream",
     "text": [
      "Generating embeddings: 100%|██████████| 957/957 [01:45<00:00,  9.11it/s]\n"
     ]
    }
   ],
   "source": [
    "from llama_index.core.node_parser import SentenceSplitter\n",
    "\n",
    "# instantiate a node parser\n",
    "splitter = SentenceSplitter(\n",
    "    chunk_size=64,\n",
    "    chunk_overlap=32,\n",
    "    paragraph_separator=\"\\n\\n\\n\\n\",\n",
    ")\n",
    "\n",
    "# pass a list of documents to the node paraser\n",
    "nodes = splitter.get_nodes_from_documents(documents)\n",
    "\n",
    "# create the index from the nodes\n",
    "index_from_nodes = VectorStoreIndex(\n",
    "    nodes,\n",
    "    embed_model=Settings.embed_model,\n",
    "    show_progress=True\n",
    "    )"
   ]
  },
  {
   "cell_type": "markdown",
   "metadata": {},
   "source": [
    "### Saving Index"
   ]
  },
  {
   "cell_type": "code",
   "execution_count": 10,
   "metadata": {},
   "outputs": [],
   "source": [
    "index.storage_context.persist(persist_dir=\"D:/Learning New/GenAI/Project_RAG/RAG/1. Data/index_store\")\n",
    "index_from_nodes.storage_context.persist(persist_dir=\"D:/Learning New/GenAI/Project_RAG/RAG/1. Data/index_from_node_store\")"
   ]
  },
  {
   "cell_type": "markdown",
   "metadata": {},
   "source": [
    "### QUERY"
   ]
  },
  {
   "cell_type": "code",
   "execution_count": 10,
   "metadata": {},
   "outputs": [],
   "source": [
    "query = \"Difference - PEB241T and PEB347T. What is capacity for each instrument?\""
   ]
  },
  {
   "cell_type": "markdown",
   "metadata": {},
   "source": [
    "### Retrieval - Hybrid Fusion (BM25+Default), topk=10"
   ]
  },
  {
   "cell_type": "code",
   "execution_count": 12,
   "metadata": {},
   "outputs": [
    {
     "name": "stdout",
     "output_type": "stream",
     "text": [
      "resource module not available on Windows\n",
      "Score: 0.03 - FEATURES: 5\" Touch screen Display. Aluminium alloy base. Date & Time Display. Multifunction Weighing Units. In-built rechargeable battery. RS232C Interface. Weighing, Counting, Percentage. Dynamic weighing function.\n",
      "        SPECIFICATIONS: HSN: 90160020; Capacity: 220g, 320g; Readability: 0.001g (1mg); Repeatability (±): 0.001g; Linearity (±): 0.002g; Display: 5\" Touch screen; Pan Size: 80mm; Calibration: External Calibration; Interface: RS232C; Date & Time: Yes; Tare Range: Full; Operating Temperature: 10°C to 40°C; Power Supply: DC Adaptor, using AC 220V/50-60Hz; Dimension (LxWxH): 360 x 260 x 355 mm; Weight: 4.5kg...\n",
      "-----\n",
      "\n",
      "Score: 0.03 - FEATURES: Overload Alarm. External Calibration. Extra Display (Optional). \n",
      "        SPECIFICATIONS: HSN: 90160020; Capacity: 200g, 300g; Readability: 0.001g (1mg); Repeatability (±): 0.001g; Linearity (±): 0.002g; Pan Size: 90mm; Calibration: External Calibration; Windshield Size: Ø150 x 80 mm; Display: LCD Display with White Back Light; Tare Range: Full; Operating Temperature: 10°C to 40°C; Interface: RS232C (Optional); Power Supply: DC Adaptor, using AC 220V/50-60Hz; Dimension (LxWxH): 280 x 180 x 90 mm; Weight: 1.6 Kg...\n",
      "-----\n",
      "\n",
      "Score: 0.03 - FEATURES: Aluminium alloy base. Date & Time Display. Glass Windshield. Front & Back Display. RS232C Interface.\n",
      "        SPECIFICATIONS: HSN: 90160020; Capacity: 220g, 320g; Readability: 0.001g (1mg); Repeatability (±): 0.001g; Linearity (±): 0.002g; Display: LCD with back light; Pan Size: 80mm; Calibration: External Calibration; Interface: RS232C; Date & Time: Yes; Tare Range: Full; Operating Temperature: 10°C to 40°C; Power Supply: DC Adaptor, using AC 220V/50-60Hz; Dimension (LxWxH): 360 x 260 x 355 mm; Weight: 4.5kg...\n",
      "-----\n",
      "\n",
      "Score: 0.03 - FEATURES: RED LED display. Multifunction Weighing Units. Piece Counting function. RS232C Interface. External Calibration.\n",
      "        SPECIFICATIONS: HSN: 84238900; Capacity: 6000g; Readability: 0.1g (100mg); Repeatability (±): 0.2g; Linearity (±): 0.3g; Back Display: Yes; Remote Display: NA; Pan Size: 155 x 180mm; Display: RED LED; Tare Range: Full; Operating Temperature: 10°C to 35°C; Interface: RS232C; Power Supply: DC Adaptor, using AC 220V/50-60Hz; Dimension (LxWxH): 330 x 240 x 120 mm; Weight: 2.75Kg...\n",
      "-----\n",
      "\n",
      "Score: 0.02 - FEATURES: LCD display. Overload Protection. With Acrylic Windshield. AAA Battery can use.\n",
      "        SPECIFICATIONS: HSN: 90160020; Capacity: 600g; Readability: 0.01g (10mg); Repeatability (±): 0.02g; Linearity (±): 0.03g; Pan Size: 140mm; Calibration: External Calibration; Display: LCD Display; Tare Range: Full; Operating Temperature: 10°C to 40°C; RS232C Interface: NA; Rechargeable Battery: NA; Power Supply: DC Adaptor, using AC 220V/50-60Hz; Dimension (LxWxH): 260 x 175 x 65 mm; Weight: 2 kg...\n",
      "-----\n",
      "\n",
      "Score: 0.02 - FEATURES: RED LED display. Plastic Windshield. Piece Counting function. External Calibration.\n",
      "        SPECIFICATIONS: HSN: 90160020; Capacity: 600g, 1000g; Readability: 0.01g (10mg); Repeatability (±): 0.02g; Linearity (±): 0.03g; Pan Size: 130mm; Calibration: External Calibration; Display: RED LED; Piece Counting: Available; Tare Range: Full; Operating Temperature: 10°C to 40°C; Interface: RS232C; Power Supply: DC Adaptor, using AC 220V/50-60Hz; Dimension (LxWxH): 270 x 195 x 155 mm; Weight: 2Kg...\n",
      "-----\n",
      "\n",
      "Score: 0.02 - FEATURES: LCD display with Back Light. Front & Back Display. Back display can be Switched OFF. Multifunction Weighing Units. RS232C Interface. Piece Counting Function. In-built Rechargeable Battery.\n",
      "        SPECIFICATIONS: HSN: 90160020; Capacity: 200g, 300g; Readability: 0.001g (1mg); Repeatability (±): 0.001g; Linearity (±): 0.002g; Pan Size: 120mm; Windshield: Glass Windshield; Calibration: External Calibration; Display: LCD Display; Operating Temperature: 10°C to 40°C; Interface: RS232C; Power Supply: DC Adaptor, using AC 220V/50-60Hz; Dimension (LxWxH): 290 x 200 x 255 mm; Weight: 5 Kg...\n",
      "-----\n",
      "\n",
      "Score: 0.02 - FEATURES: RS232C Interface. Underhook Weighing. Percentage Weighing. Multiple Weighing Units.\n",
      "        SPECIFICATIONS: HSN: 90160020; Capacity: 220g, 320g; Readability: 0.0001g (0.1mg); Repeatability (±): 0.0002g; Linearity (±): 0.0003g; Pan Size: 90mm; Calibration: Internal Calibration; Display: LCD with back light; Unit: g, mg, ct, ozt, oz, gn, dwt, lb; Response Time: 4-6 sec; Operating Temperature: 15°C to 30°C; Interface: RS232C; Power Supply: AC 220V/50-60Hz; Dimension (LxWxH): 220 x 360 x 345 mm; Weight: 9 Kg...\n",
      "-----\n",
      "\n",
      "Score: 0.02 - FEATURES: Multifunction Weighing Units. Overload Alarm. In-built rechargeable battery. Glass Windshield. RS232C Interface (Optional). Extra Display (Optional).\n",
      "        SPECIFICATIONS: HSN: 90160020; Capacity: 200g, 300g; Readability: 0.001g (1mg); Repeatability (±): 0.001g; Linearity (±): 0.002g; Display: LCD Display with White Back Light; Pan Size: 80mm; Calibration: External Calibration; Tare Range: Full; RS232C Interface: Optional; Operating Temperature: 10°C to 40°C; Power Supply: DC Adaptor, using AC 220V/50-60Hz; Dimension (LxWxH): 190 x 285 x 295 mm; Weight: 3.3kg...\n",
      "-----\n",
      "\n",
      "Score: 0.02 - FEATURES: GREEN LED Display - PEB653. RED LED Display - PEB654. Plastic Windshield. Multifunction Weighing Units. PEB653 - Without Battery Backup. PEB654 - In-built rechargeable battery.\n",
      "        SPECIFICATIONS: HSN: 90160020; Capacity: 600g; Readability: 0.01g (10mg); Repeatability (±): 0.02g; Linearity (±): 0.03g; Pan Size: 130mm; Calibration: External Calibration; Back Display: NA; Operating Temperature: 10°C to 40°C; RS232C Interface: NA; Power Supply: AC 220V/50-60Hz; Dimension (LxWxH): 175 x 165 x 140 mm; Weight: 2.2kg...\n",
      "-----\n",
      "\n"
     ]
    }
   ],
   "source": [
    "from llama_index.retrievers.bm25 import BM25Retriever\n",
    "from llama_index.core.query_engine import RetrieverQueryEngine\n",
    "from llama_index.core.retrievers import QueryFusionRetriever\n",
    "from llama_index.core import PromptTemplate\n",
    "# from prompts import QUESTION_GEN_PROMPT\n",
    "\n",
    "vector_retriever = index.as_retriever(similarity_top_k=10)\n",
    "\n",
    "bm25_retriever = BM25Retriever.from_defaults(docstore=index.docstore, similarity_top_k=10)\n",
    "\n",
    "# QUERY_GEN_PROMPT_TEMPLATE=PromptTemplate(QUESTION_GEN_PROMPT)\n",
    "\n",
    "retriever = QueryFusionRetriever(\n",
    "    [vector_retriever, bm25_retriever],\n",
    "    similarity_top_k=10,\n",
    "    num_queries=1,  # set this to 1 to disable query generation\n",
    "    mode=\"reciprocal_rerank\",\n",
    "    use_async=True,\n",
    "    verbose=True,\n",
    "    # query_gen_prompt=QUERY_GEN_PROMPT_TEMPLATE, \n",
    ")\n",
    "\n",
    "nodes_with_scores = retriever.retrieve(query)\n",
    "for node in nodes_with_scores:\n",
    "    print(f\"Score: {node.score:.2f} - {node.text}...\\n-----\\n\")"
   ]
  },
  {
   "cell_type": "markdown",
   "metadata": {},
   "source": [
    "### Query Engine + Post processing"
   ]
  },
  {
   "cell_type": "code",
   "execution_count": 14,
   "metadata": {},
   "outputs": [
    {
     "data": {
      "text/plain": [
       "Response(response='The capacity for PEB241T is 220g and 320g, and the capacity for PEB347T is not specified in the given context.', source_nodes=[NodeWithScore(node=TextNode(id_='6e653348-7339-4a74-8891-e741aa8142f6', embedding=None, metadata={'Instrument type': 'Precision Electronic Balance', 'Sub category': '1mg', 'Model': 'PEB241T, PEB347T'}, excluded_embed_metadata_keys=[], excluded_llm_metadata_keys=[], relationships={<NodeRelationship.SOURCE: '1'>: RelatedNodeInfo(node_id='429d4a3c-e10b-4391-805a-c5ae0eac5442', node_type='4', metadata={'Instrument type': 'Precision Electronic Balance', 'Sub category': '1mg', 'Model': 'PEB241T, PEB347T'}, hash='248a40a4e0bfd882a6976a1f436985303bedd8ba96ac4b3cb0cee7b131ddfc3f')}, metadata_template='{key}: {value}', metadata_separator='\\n', text='FEATURES: 5\" Touch screen Display. Aluminium alloy base. Date & Time Display. Multifunction Weighing Units. In-built rechargeable battery. RS232C Interface. Weighing, Counting, Percentage. Dynamic weighing function.\\n        SPECIFICATIONS: HSN: 90160020; Capacity: 220g, 320g; Readability: 0.001g (1mg); Repeatability (±): 0.001g; Linearity (±): 0.002g; Display: 5\" Touch screen; Pan Size: 80mm; Calibration: External Calibration; Interface: RS232C; Date & Time: Yes; Tare Range: Full; Operating Temperature: 10°C to 40°C; Power Supply: DC Adaptor, using AC 220V/50-60Hz; Dimension (LxWxH): 360 x 260 x 355 mm; Weight: 4.5kg', mimetype='text/plain', start_char_idx=9, end_char_idx=633, metadata_seperator='\\n', text_template='{metadata_str}\\n\\n{content}'), score=0.03333333333333333), NodeWithScore(node=TextNode(id_='ba360f60-84df-4cd0-a600-2accbea82a5a', embedding=None, metadata={'Instrument type': 'Precision Electronic Balance', 'Sub category': '1mg', 'Model': 'PEB231, PEB341'}, excluded_embed_metadata_keys=[], excluded_llm_metadata_keys=[], relationships={<NodeRelationship.SOURCE: '1'>: RelatedNodeInfo(node_id='7d06ec5e-780b-4ef1-aa60-ff3a66775cd4', node_type='4', metadata={'Instrument type': 'Precision Electronic Balance', 'Sub category': '1mg', 'Model': 'PEB231, PEB341'}, hash='3d5598e1316794c636dacc6ab58b5381ff6f3e30c9369aab01a15f3a7abf8a3e')}, metadata_template='{key}: {value}', metadata_separator='\\n', text='FEATURES: Overload Alarm. External Calibration. Extra Display (Optional). \\n        SPECIFICATIONS: HSN: 90160020; Capacity: 200g, 300g; Readability: 0.001g (1mg); Repeatability (±): 0.001g; Linearity (±): 0.002g; Pan Size: 90mm; Calibration: External Calibration; Windshield Size: Ø150 x 80 mm; Display: LCD Display with White Back Light; Tare Range: Full; Operating Temperature: 10°C to 40°C; Interface: RS232C (Optional); Power Supply: DC Adaptor, using AC 220V/50-60Hz; Dimension (LxWxH): 280 x 180 x 90 mm; Weight: 1.6 Kg', mimetype='text/plain', start_char_idx=9, end_char_idx=534, metadata_seperator='\\n', text_template='{metadata_str}\\n\\n{content}'), score=0.031544957774465976), NodeWithScore(node=TextNode(id_='43dbccd4-966a-43aa-85d9-99c6f64c6dd8', embedding=None, metadata={'Instrument type': 'Precision Electronic Balance', 'Sub category': '1mg', 'Model': 'PEB237, PEB346'}, excluded_embed_metadata_keys=[], excluded_llm_metadata_keys=[], relationships={<NodeRelationship.SOURCE: '1'>: RelatedNodeInfo(node_id='89809b9e-a9f4-49f0-b475-4779e09b7f24', node_type='4', metadata={'Instrument type': 'Precision Electronic Balance', 'Sub category': '1mg', 'Model': 'PEB237, PEB346'}, hash='9a2419e6de09bea4a5ff1e5addbb2874d327f28782baaf9e13e1acee5303d908')}, metadata_template='{key}: {value}', metadata_separator='\\n', text='FEATURES: Aluminium alloy base. Date & Time Display. Glass Windshield. Front & Back Display. RS232C Interface.\\n        SPECIFICATIONS: HSN: 90160020; Capacity: 220g, 320g; Readability: 0.001g (1mg); Repeatability (±): 0.001g; Linearity (±): 0.002g; Display: LCD with back light; Pan Size: 80mm; Calibration: External Calibration; Interface: RS232C; Date & Time: Yes; Tare Range: Full; Operating Temperature: 10°C to 40°C; Power Supply: DC Adaptor, using AC 220V/50-60Hz; Dimension (LxWxH): 360 x 260 x 355 mm; Weight: 4.5kg', mimetype='text/plain', start_char_idx=9, end_char_idx=532, metadata_seperator='\\n', text_template='{metadata_str}\\n\\n{content}'), score=0.030834914611005692), NodeWithScore(node=TextNode(id_='560a4950-0d36-4fa1-8c2e-ecc7de6c26af', embedding=None, metadata={'Instrument type': 'Precision Electronic Balance', 'Sub category': '100mg', 'Model': 'PEB6084'}, excluded_embed_metadata_keys=[], excluded_llm_metadata_keys=[], relationships={<NodeRelationship.SOURCE: '1'>: RelatedNodeInfo(node_id='287808a5-a808-4dcb-995c-c100caefc489', node_type='4', metadata={'Instrument type': 'Precision Electronic Balance', 'Sub category': '100mg', 'Model': 'PEB6084'}, hash='3a5d26c43b10a8598be55489793755cd8e21241636dbe1c998aad769cdcaf990')}, metadata_template='{key}: {value}', metadata_separator='\\n', text='FEATURES: RED LED display. Multifunction Weighing Units. Piece Counting function. RS232C Interface. External Calibration.\\n        SPECIFICATIONS: HSN: 84238900; Capacity: 6000g; Readability: 0.1g (100mg); Repeatability (±): 0.2g; Linearity (±): 0.3g; Back Display: Yes; Remote Display: NA; Pan Size: 155 x 180mm; Display: RED LED; Tare Range: Full; Operating Temperature: 10°C to 35°C; Interface: RS232C; Power Supply: DC Adaptor, using AC 220V/50-60Hz; Dimension (LxWxH): 330 x 240 x 120 mm; Weight: 2.75Kg', mimetype='text/plain', start_char_idx=9, end_char_idx=516, metadata_seperator='\\n', text_template='{metadata_str}\\n\\n{content}'), score=0.030090497737556562)], metadata={'6e653348-7339-4a74-8891-e741aa8142f6': {'Instrument type': 'Precision Electronic Balance', 'Sub category': '1mg', 'Model': 'PEB241T, PEB347T'}, 'ba360f60-84df-4cd0-a600-2accbea82a5a': {'Instrument type': 'Precision Electronic Balance', 'Sub category': '1mg', 'Model': 'PEB231, PEB341'}, '43dbccd4-966a-43aa-85d9-99c6f64c6dd8': {'Instrument type': 'Precision Electronic Balance', 'Sub category': '1mg', 'Model': 'PEB237, PEB346'}, '560a4950-0d36-4fa1-8c2e-ecc7de6c26af': {'Instrument type': 'Precision Electronic Balance', 'Sub category': '100mg', 'Model': 'PEB6084'}})"
      ]
     },
     "execution_count": 14,
     "metadata": {},
     "output_type": "execute_result"
    }
   ],
   "source": [
    "from llama_index.core import get_response_synthesizer\n",
    "from llama_index.core.postprocessor import SimilarityPostprocessor\n",
    "\n",
    "similarity_processor = SimilarityPostprocessor(similarity_cutoff=0.025)\n",
    "\n",
    "response_synthsizer = get_response_synthesizer(llm=Settings.llm)\n",
    "\n",
    "query_engine = RetrieverQueryEngine(\n",
    "    retriever=retriever,\n",
    "    response_synthesizer=response_synthsizer,\n",
    "    node_postprocessors=[similarity_processor],\n",
    ")\n",
    "query_engine.query(query)"
   ]
  }
 ],
 "metadata": {
  "kernelspec": {
   "display_name": ".venv",
   "language": "python",
   "name": "python3"
  },
  "language_info": {
   "codemirror_mode": {
    "name": "ipython",
    "version": 3
   },
   "file_extension": ".py",
   "mimetype": "text/x-python",
   "name": "python",
   "nbconvert_exporter": "python",
   "pygments_lexer": "ipython3",
   "version": "3.12.6"
  }
 },
 "nbformat": 4,
 "nbformat_minor": 2
}
