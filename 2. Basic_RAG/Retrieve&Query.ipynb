{
 "cells": [
  {
   "cell_type": "markdown",
   "metadata": {},
   "source": [
    "### Os, Sync, Env"
   ]
  },
  {
   "cell_type": "code",
   "execution_count": 2,
   "metadata": {},
   "outputs": [],
   "source": [
    "import os\n",
    "import dotenv\n",
    "dotenv.load_dotenv(dotenv_path=\"../.env\")\n",
    "import nest_asyncio\n",
    "nest_asyncio.apply()"
   ]
  },
  {
   "cell_type": "markdown",
   "metadata": {},
   "source": [
    "### LLM & EMBEDDING MODEL"
   ]
  },
  {
   "cell_type": "code",
   "execution_count": 3,
   "metadata": {},
   "outputs": [
    {
     "name": "stderr",
     "output_type": "stream",
     "text": [
      "d:\\Learning New\\GenAI\\Project_RAG\\RAG\\.venv\\Lib\\site-packages\\tqdm\\auto.py:21: TqdmWarning: IProgress not found. Please update jupyter and ipywidgets. See https://ipywidgets.readthedocs.io/en/stable/user_install.html\n",
      "  from .autonotebook import tqdm as notebook_tqdm\n",
      "None of PyTorch, TensorFlow >= 2.0, or Flax have been found. Models won't be available and only tokenizers, configuration and file/data utilities can be used.\n"
     ]
    },
    {
     "name": "stdout",
     "output_type": "stream",
     "text": [
      "Groq: Hi! It's nice to meet you. Is there something I can help you with or would you like to chat?\n",
      "Cohere:  Hi! Good day! I am ready to help and happy to talk to you? how are you doing?  I can assist you with\n"
     ]
    },
    {
     "name": "stderr",
     "output_type": "stream",
     "text": [
      "Fetching 5 files: 100%|██████████| 5/5 [00:00<?, ?it/s]\n"
     ]
    }
   ],
   "source": [
    "# GROQ\n",
    "QROQ_API_KEY = os.environ['GROQ_API_KEY_1']\n",
    "from llama_index.llms.groq import Groq\n",
    "groq_llm = Groq(model=\"llama3-8b-8192\", api_key = QROQ_API_KEY, set_run_config=None)\n",
    "print(\"Groq: \"+str(groq_llm.complete(\"Hi\")))\n",
    "# Cohere\n",
    "CO_API_KEY = os.environ['COHERE_API_KEY']\n",
    "from llama_index.llms.cohere import Cohere\n",
    "cohere_llm = Cohere(model=\"command-light\",api_key=CO_API_KEY)\n",
    "print(\"Cohere: \"+str(cohere_llm.complete(\"Hi\")))\n",
    "# Fast Embed\n",
    "from llama_index.embeddings.fastembed import FastEmbedEmbedding\n",
    "fast_embed = FastEmbedEmbedding(model_name=\"BAAI/bge-base-en-v1.5\")"
   ]
  },
  {
   "cell_type": "markdown",
   "metadata": {},
   "source": [
    "### SETTINGS"
   ]
  },
  {
   "cell_type": "code",
   "execution_count": 4,
   "metadata": {},
   "outputs": [],
   "source": [
    "from llama_index.core.settings import Settings\n",
    "Settings.llm = groq_llm\n",
    "Settings.embed_model = fast_embed"
   ]
  },
  {
   "cell_type": "markdown",
   "metadata": {},
   "source": [
    "### Loading Index from Persisted Index Stores"
   ]
  },
  {
   "cell_type": "code",
   "execution_count": 5,
   "metadata": {},
   "outputs": [],
   "source": [
    "from llama_index.core import StorageContext, load_index_from_storage\n",
    "\n",
    "storage_context1 = StorageContext.from_defaults(persist_dir=\"D:/Learning New/GenAI/Project_RAG/RAG/1. Data/index_store\")\n",
    "index_from_docs = load_index_from_storage(storage_context1)\n",
    "storage_context2 = StorageContext.from_defaults(persist_dir=\"D:/Learning New/GenAI/Project_RAG/RAG/1. Data/index_from_node_store\")\n",
    "index_from_nodes = load_index_from_storage(storage_context2)"
   ]
  },
  {
   "cell_type": "markdown",
   "metadata": {},
   "source": [
    "### Query"
   ]
  },
  {
   "cell_type": "code",
   "execution_count": 10,
   "metadata": {},
   "outputs": [],
   "source": [
    "query = \"Difference - PEB241T and PEB347T. What is capacity for each instrument?\""
   ]
  },
  {
   "cell_type": "markdown",
   "metadata": {},
   "source": [
    "### Retrieval (Vector)"
   ]
  },
  {
   "cell_type": "code",
   "execution_count": 7,
   "metadata": {},
   "outputs": [],
   "source": [
    "retriever_from_docs = index_from_docs.as_retriever(\n",
    "    similarity_top_k=10,\n",
    "    similarity_threshold=0.75)\n",
    "retriever_from_nodes = index_from_nodes.as_retriever(\n",
    "    similarity_top_k=10,\n",
    "    similarity_threshold=0.75)"
   ]
  },
  {
   "cell_type": "markdown",
   "metadata": {},
   "source": [
    "### Query Engine (Vector)"
   ]
  },
  {
   "cell_type": "code",
   "execution_count": null,
   "metadata": {},
   "outputs": [
    {
     "name": "stdout",
     "output_type": "stream",
     "text": [
      "According to the context information, the capacity for PEB241T is 220g and 320g, and for PEB347T, it is not specified.\n"
     ]
    },
    {
     "data": {
      "text/plain": [
       "Response(response='The capacity for PEB241T is 220g and 320g, and the capacity for PEB347T is also 220g and 320g.', source_nodes=[NodeWithScore(node=TextNode(id_='3c8c90b6-42ec-41e3-96cc-83d240174045', embedding=None, metadata={'Instrument type': 'Precision Electronic Balance', 'Sub category': '1mg', 'Model': 'PEB241T, PEB347T'}, excluded_embed_metadata_keys=[], excluded_llm_metadata_keys=[], relationships={<NodeRelationship.SOURCE: '1'>: RelatedNodeInfo(node_id='429d4a3c-e10b-4391-805a-c5ae0eac5442', node_type='4', metadata={'Instrument type': 'Precision Electronic Balance', 'Sub category': '1mg', 'Model': 'PEB241T, PEB347T'}, hash='248a40a4e0bfd882a6976a1f436985303bedd8ba96ac4b3cb0cee7b131ddfc3f'), <NodeRelationship.PREVIOUS: '2'>: RelatedNodeInfo(node_id='0ae4b4c4-74a5-4f52-b814-cc6a7fc96ee3', node_type='1', metadata={'Instrument type': 'Precision Electronic Balance', 'Sub category': '1mg', 'Model': 'PEB241T, PEB347T'}, hash='1df79e8760083db405a7e2e226cea5e574dc2ac3a9b29f8f6736b87ad66fc583'), <NodeRelationship.NEXT: '3'>: RelatedNodeInfo(node_id='980e3037-90e3-40b5-b8c9-5b999935566e', node_type='1', metadata={}, hash='2301a4d737ed7f11692440a64ccd37760bf5039efbe742c56a26d26f3cda310c')}, metadata_template='{key}: {value}', metadata_separator='\\n', text='Capacity: 220g, 320g; Readability: 0.001g (1mg); Repeatability (±): 0.001g;', mimetype='text/plain', start_char_idx=264, end_char_idx=339, metadata_seperator='\\n', text_template='{metadata_str}\\n\\n{content}'), score=0.7885985826104025), NodeWithScore(node=TextNode(id_='d24aa8df-b2ef-43a9-a507-0a6c38361eec', embedding=None, metadata={'Instrument type': 'Precision Electronic Balance', 'Sub category': '1mg', 'Model': 'PEB237, PEB346'}, excluded_embed_metadata_keys=[], excluded_llm_metadata_keys=[], relationships={<NodeRelationship.SOURCE: '1'>: RelatedNodeInfo(node_id='89809b9e-a9f4-49f0-b475-4779e09b7f24', node_type='4', metadata={'Instrument type': 'Precision Electronic Balance', 'Sub category': '1mg', 'Model': 'PEB237, PEB346'}, hash='9a2419e6de09bea4a5ff1e5addbb2874d327f28782baaf9e13e1acee5303d908'), <NodeRelationship.PREVIOUS: '2'>: RelatedNodeInfo(node_id='eeffdf82-1d2a-41e2-bb0e-084afa944472', node_type='1', metadata={'Instrument type': 'Precision Electronic Balance', 'Sub category': '1mg', 'Model': 'PEB237, PEB346'}, hash='4552f5de9718dcc5b38aee12912dfbde829e1a4ce8cce58fc690e31d03435895'), <NodeRelationship.NEXT: '3'>: RelatedNodeInfo(node_id='b8e3d252-8d84-4029-924c-09520dc85a8e', node_type='1', metadata={}, hash='22f15fd2a4817596ed43571803d8aafc8667f98ecfaf17aea232a26872fca2a9')}, metadata_template='{key}: {value}', metadata_separator='\\n', text='Capacity: 220g, 320g; Readability: 0.001g (1mg); Repeatability (±): 0.001g;', mimetype='text/plain', start_char_idx=159, end_char_idx=234, metadata_seperator='\\n', text_template='{metadata_str}\\n\\n{content}'), score=0.7661087573265937), NodeWithScore(node=TextNode(id_='6f1a87aa-5472-41b7-ab74-d7a7fc29f5da', embedding=None, metadata={'Instrument type': 'Precision Electronic Balance', 'Sub category': '1mg', 'Model': 'PEB231, PEB341'}, excluded_embed_metadata_keys=[], excluded_llm_metadata_keys=[], relationships={<NodeRelationship.SOURCE: '1'>: RelatedNodeInfo(node_id='7d06ec5e-780b-4ef1-aa60-ff3a66775cd4', node_type='4', metadata={'Instrument type': 'Precision Electronic Balance', 'Sub category': '1mg', 'Model': 'PEB231, PEB341'}, hash='3d5598e1316794c636dacc6ab58b5381ff6f3e30c9369aab01a15f3a7abf8a3e'), <NodeRelationship.PREVIOUS: '2'>: RelatedNodeInfo(node_id='a9e0d292-1fd1-4c23-a5f7-38181ffebfcb', node_type='1', metadata={'Instrument type': 'Precision Electronic Balance', 'Sub category': '1mg', 'Model': 'PEB231, PEB341'}, hash='7679dec331385cc7ec8bb9a51b7e74fc8fc8d7a30a84d3f79574a2e0902e0cdf'), <NodeRelationship.NEXT: '3'>: RelatedNodeInfo(node_id='067034c2-fade-4b63-817e-46a0d95dfcb8', node_type='1', metadata={}, hash='cabf6350f83ccf16b3354a4fa39553c0c1dda8c278626fb95a8ceca88877dd4d')}, metadata_template='{key}: {value}', metadata_separator='\\n', text='Capacity: 200g, 300g; Readability: 0.001g (1mg); Repeatability (±): 0.001g;', mimetype='text/plain', start_char_idx=123, end_char_idx=198, metadata_seperator='\\n', text_template='{metadata_str}\\n\\n{content}'), score=0.7629595681715815), NodeWithScore(node=TextNode(id_='eeffdf82-1d2a-41e2-bb0e-084afa944472', embedding=None, metadata={'Instrument type': 'Precision Electronic Balance', 'Sub category': '1mg', 'Model': 'PEB237, PEB346'}, excluded_embed_metadata_keys=[], excluded_llm_metadata_keys=[], relationships={<NodeRelationship.SOURCE: '1'>: RelatedNodeInfo(node_id='89809b9e-a9f4-49f0-b475-4779e09b7f24', node_type='4', metadata={'Instrument type': 'Precision Electronic Balance', 'Sub category': '1mg', 'Model': 'PEB237, PEB346'}, hash='9a2419e6de09bea4a5ff1e5addbb2874d327f28782baaf9e13e1acee5303d908'), <NodeRelationship.PREVIOUS: '2'>: RelatedNodeInfo(node_id='4ba1575b-23bd-450b-87ca-18c255f59dd6', node_type='1', metadata={'Instrument type': 'Precision Electronic Balance', 'Sub category': '1mg', 'Model': 'PEB237, PEB346'}, hash='e9b1688dc823e108f95644abf79fd199974a0d6da3135c66e2f7d39722438de8'), <NodeRelationship.NEXT: '3'>: RelatedNodeInfo(node_id='d24aa8df-b2ef-43a9-a507-0a6c38361eec', node_type='1', metadata={}, hash='a956a6b9f5400f06401627c65215bbac4bac10c0b654f432de143a4b01ee62a3')}, metadata_template='{key}: {value}', metadata_separator='\\n', text='RS232C Interface.\\n        SPECIFICATIONS: HSN: 90160020; Capacity: 220g, 320g; Readability: 0.001g (1mg);', mimetype='text/plain', start_char_idx=102, end_char_idx=207, metadata_seperator='\\n', text_template='{metadata_str}\\n\\n{content}'), score=0.758541985976681), NodeWithScore(node=TextNode(id_='d74cc63e-5a1e-49f4-902e-90c8b677aecf', embedding=None, metadata={'Instrument type': 'Precision Electronic Balance', 'Sub category': '1mg', 'Model': 'PEB234, PEB342'}, excluded_embed_metadata_keys=[], excluded_llm_metadata_keys=[], relationships={<NodeRelationship.SOURCE: '1'>: RelatedNodeInfo(node_id='31dad0b2-6b6f-4ab1-959a-d9c7f3448db6', node_type='4', metadata={'Instrument type': 'Precision Electronic Balance', 'Sub category': '1mg', 'Model': 'PEB234, PEB342'}, hash='6794ff99ee43002787292fc292d41e95407c728a94d8fdc3648ad9f18a94ad43'), <NodeRelationship.PREVIOUS: '2'>: RelatedNodeInfo(node_id='e173485f-581a-458d-8dae-feb9302c0e6f', node_type='1', metadata={'Instrument type': 'Precision Electronic Balance', 'Sub category': '1mg', 'Model': 'PEB234, PEB342'}, hash='3f31947055ce26d7caea75f8e13b374ef90a5fac491414f273cce88d3560cf9b'), <NodeRelationship.NEXT: '3'>: RelatedNodeInfo(node_id='3a035316-96af-4f25-ab81-491f2b778db6', node_type='1', metadata={}, hash='cabf6350f83ccf16b3354a4fa39553c0c1dda8c278626fb95a8ceca88877dd4d')}, metadata_template='{key}: {value}', metadata_separator='\\n', text='Capacity: 200g, 300g; Readability: 0.001g (1mg); Repeatability (±): 0.001g;', mimetype='text/plain', start_char_idx=208, end_char_idx=283, metadata_seperator='\\n', text_template='{metadata_str}\\n\\n{content}'), score=0.7561128497150216), NodeWithScore(node=TextNode(id_='adc368ec-3347-49b6-8ae6-b4f8056d4602', embedding=None, metadata={'Instrument type': 'Precision Electronic Balance', 'Sub category': '1mg', 'Model': 'PEB232, PEB343'}, excluded_embed_metadata_keys=[], excluded_llm_metadata_keys=[], relationships={<NodeRelationship.SOURCE: '1'>: RelatedNodeInfo(node_id='d5c78508-7e66-4f5f-881f-eb3359d45984', node_type='4', metadata={'Instrument type': 'Precision Electronic Balance', 'Sub category': '1mg', 'Model': 'PEB232, PEB343'}, hash='28b9a1cbfe6f2fd1568294e11663f39280a50c6fed6b9a4fedff2208c24ad475'), <NodeRelationship.PREVIOUS: '2'>: RelatedNodeInfo(node_id='46fbe93d-98ae-4f9b-9b9c-d6d6a6a497ca', node_type='1', metadata={'Instrument type': 'Precision Electronic Balance', 'Sub category': '1mg', 'Model': 'PEB232, PEB343'}, hash='6b11b3d33ad18d5645d0732a4e5309a05dd9908a71d9fb35e94126b387b0fa04'), <NodeRelationship.NEXT: '3'>: RelatedNodeInfo(node_id='e947e88f-1592-4984-a8a2-4fbab289c11c', node_type='1', metadata={}, hash='cabf6350f83ccf16b3354a4fa39553c0c1dda8c278626fb95a8ceca88877dd4d')}, metadata_template='{key}: {value}', metadata_separator='\\n', text='Capacity: 200g, 300g; Readability: 0.001g (1mg); Repeatability (±): 0.001g;', mimetype='text/plain', start_char_idx=237, end_char_idx=312, metadata_seperator='\\n', text_template='{metadata_str}\\n\\n{content}'), score=0.7524397021870328), NodeWithScore(node=TextNode(id_='9b11f991-962f-47cb-a8c1-91b38e1578b3', embedding=None, metadata={'Instrument type': 'Precision Electronic Balance', 'Sub category': '1mg', 'Model': 'PEB241T, PEB347T'}, excluded_embed_metadata_keys=[], excluded_llm_metadata_keys=[], relationships={<NodeRelationship.SOURCE: '1'>: RelatedNodeInfo(node_id='429d4a3c-e10b-4391-805a-c5ae0eac5442', node_type='4', metadata={'Instrument type': 'Precision Electronic Balance', 'Sub category': '1mg', 'Model': 'PEB241T, PEB347T'}, hash='248a40a4e0bfd882a6976a1f436985303bedd8ba96ac4b3cb0cee7b131ddfc3f'), <NodeRelationship.PREVIOUS: '2'>: RelatedNodeInfo(node_id='f95a3912-380f-4270-941e-8b468db7f70c', node_type='1', metadata={'Instrument type': 'Precision Electronic Balance', 'Sub category': '1mg', 'Model': 'PEB241T, PEB347T'}, hash='f5c6fe1fcb1742ff4e94bd080f0496106d32097cfc80c45a1a228d53cb8afb34')}, metadata_template='{key}: {value}', metadata_separator='\\n', text='using AC 220V/50-60Hz; Dimension (LxWxH): 360 x 260 x 355 mm; Weight: 4.5kg', mimetype='text/plain', start_char_idx=558, end_char_idx=633, metadata_seperator='\\n', text_template='{metadata_str}\\n\\n{content}'), score=0.7514456020031574), NodeWithScore(node=TextNode(id_='5c3eba5e-f6f3-4d13-b717-32874b7e5674', embedding=None, metadata={'Instrument type': 'Precision Electronic Balance', 'Sub category': '1mg', 'Model': 'PEB235, PEB345'}, excluded_embed_metadata_keys=[], excluded_llm_metadata_keys=[], relationships={<NodeRelationship.SOURCE: '1'>: RelatedNodeInfo(node_id='ccbdcf63-e917-4969-af17-346ef16651c5', node_type='4', metadata={'Instrument type': 'Precision Electronic Balance', 'Sub category': '1mg', 'Model': 'PEB235, PEB345'}, hash='ba5dc5164367d21ead034a288e2d1726b2a45c7c1ea6679366bbcfc86e1c0c84'), <NodeRelationship.PREVIOUS: '2'>: RelatedNodeInfo(node_id='9d28050b-f89e-4874-a950-e59c220ca9c4', node_type='1', metadata={'Instrument type': 'Precision Electronic Balance', 'Sub category': '1mg', 'Model': 'PEB235, PEB345'}, hash='85967117959b4d1df0c3950af8f24403e8270d6e52e341f6795639a8078cdf11'), <NodeRelationship.NEXT: '3'>: RelatedNodeInfo(node_id='cfe0eea1-965f-4550-a946-895ce5c83b9d', node_type='1', metadata={}, hash='22f15fd2a4817596ed43571803d8aafc8667f98ecfaf17aea232a26872fca2a9')}, metadata_template='{key}: {value}', metadata_separator='\\n', text='Capacity: 220g, 320g; Readability: 0.001g (1mg); Repeatability (±): 0.001g;', mimetype='text/plain', start_char_idx=272, end_char_idx=347, metadata_seperator='\\n', text_template='{metadata_str}\\n\\n{content}'), score=0.7511109526337675), NodeWithScore(node=TextNode(id_='04d0d985-9509-4168-9d89-fe527305cfdc', embedding=None, metadata={'Instrument type': 'Precision Electronic Balance', 'Sub category': '1mg', 'Model': 'PEB233, PEB344'}, excluded_embed_metadata_keys=[], excluded_llm_metadata_keys=[], relationships={<NodeRelationship.SOURCE: '1'>: RelatedNodeInfo(node_id='31f8ab32-d900-46fb-8c40-2e898f802a55', node_type='4', metadata={'Instrument type': 'Precision Electronic Balance', 'Sub category': '1mg', 'Model': 'PEB233, PEB344'}, hash='f2603033a77e8d819e2405dc62b05d5246beb5c3972078cc78af7a68d9f10a5e'), <NodeRelationship.PREVIOUS: '2'>: RelatedNodeInfo(node_id='c014a57d-80cd-4f98-8584-ccf7ba925e1f', node_type='1', metadata={'Instrument type': 'Precision Electronic Balance', 'Sub category': '1mg', 'Model': 'PEB233, PEB344'}, hash='b7275b2edda0fdaa60f96494f408af1456d2529d13c3931d237fc94fefb599a1'), <NodeRelationship.NEXT: '3'>: RelatedNodeInfo(node_id='4c9580ab-0900-4f38-9cbc-ddbdb881304a', node_type='1', metadata={}, hash='cabf6350f83ccf16b3354a4fa39553c0c1dda8c278626fb95a8ceca88877dd4d')}, metadata_template='{key}: {value}', metadata_separator='\\n', text='Capacity: 200g, 300g; Readability: 0.001g (1mg); Repeatability (±): 0.001g;', mimetype='text/plain', start_char_idx=247, end_char_idx=322, metadata_seperator='\\n', text_template='{metadata_str}\\n\\n{content}'), score=0.7501422133016118), NodeWithScore(node=TextNode(id_='b7d44112-b68e-4b74-b70e-460ca71f23ca', embedding=None, metadata={'Instrument type': 'Precision Electronic Balance', 'Sub category': '1mg', 'Model': 'PEB241T, PEB347T'}, excluded_embed_metadata_keys=[], excluded_llm_metadata_keys=[], relationships={<NodeRelationship.SOURCE: '1'>: RelatedNodeInfo(node_id='429d4a3c-e10b-4391-805a-c5ae0eac5442', node_type='4', metadata={'Instrument type': 'Precision Electronic Balance', 'Sub category': '1mg', 'Model': 'PEB241T, PEB347T'}, hash='248a40a4e0bfd882a6976a1f436985303bedd8ba96ac4b3cb0cee7b131ddfc3f'), <NodeRelationship.PREVIOUS: '2'>: RelatedNodeInfo(node_id='994d8f92-13aa-4d10-a1de-a34cc055cfba', node_type='1', metadata={'Instrument type': 'Precision Electronic Balance', 'Sub category': '1mg', 'Model': 'PEB241T, PEB347T'}, hash='e36d31b6b131f5f8d53455837e6b6081a3f5b714bc216eb5c15b21dc1de9fdd6'), <NodeRelationship.NEXT: '3'>: RelatedNodeInfo(node_id='096b2f23-96ad-4eb5-9d4b-f9fad2f40b04', node_type='1', metadata={}, hash='12f1eb20bdc11cded20899534ae75e656afa1fbff04e2da6d1ce78f02142d807')}, metadata_template='{key}: {value}', metadata_separator='\\n', text='Display: 5\" Touch screen; Pan Size: 80mm; Calibration: External Calibration; Interface: RS232C; Date & Time: Yes; Tare Range: Full;', mimetype='text/plain', start_char_idx=363, end_char_idx=494, metadata_seperator='\\n', text_template='{metadata_str}\\n\\n{content}'), score=0.7493944702942786)], metadata={'3c8c90b6-42ec-41e3-96cc-83d240174045': {'Instrument type': 'Precision Electronic Balance', 'Sub category': '1mg', 'Model': 'PEB241T, PEB347T'}, 'd24aa8df-b2ef-43a9-a507-0a6c38361eec': {'Instrument type': 'Precision Electronic Balance', 'Sub category': '1mg', 'Model': 'PEB237, PEB346'}, '6f1a87aa-5472-41b7-ab74-d7a7fc29f5da': {'Instrument type': 'Precision Electronic Balance', 'Sub category': '1mg', 'Model': 'PEB231, PEB341'}, 'eeffdf82-1d2a-41e2-bb0e-084afa944472': {'Instrument type': 'Precision Electronic Balance', 'Sub category': '1mg', 'Model': 'PEB237, PEB346'}, 'd74cc63e-5a1e-49f4-902e-90c8b677aecf': {'Instrument type': 'Precision Electronic Balance', 'Sub category': '1mg', 'Model': 'PEB234, PEB342'}, 'adc368ec-3347-49b6-8ae6-b4f8056d4602': {'Instrument type': 'Precision Electronic Balance', 'Sub category': '1mg', 'Model': 'PEB232, PEB343'}, '9b11f991-962f-47cb-a8c1-91b38e1578b3': {'Instrument type': 'Precision Electronic Balance', 'Sub category': '1mg', 'Model': 'PEB241T, PEB347T'}, '5c3eba5e-f6f3-4d13-b717-32874b7e5674': {'Instrument type': 'Precision Electronic Balance', 'Sub category': '1mg', 'Model': 'PEB235, PEB345'}, '04d0d985-9509-4168-9d89-fe527305cfdc': {'Instrument type': 'Precision Electronic Balance', 'Sub category': '1mg', 'Model': 'PEB233, PEB344'}, 'b7d44112-b68e-4b74-b70e-460ca71f23ca': {'Instrument type': 'Precision Electronic Balance', 'Sub category': '1mg', 'Model': 'PEB241T, PEB347T'}})"
      ]
     },
     "execution_count": 11,
     "metadata": {},
     "output_type": "execute_result"
    }
   ],
   "source": [
    "from llama_index.core import get_response_synthesizer\n",
    "from llama_index.core.query_engine import RetrieverQueryEngine\n",
    "from llama_index.core.postprocessor import SimilarityPostprocessor\n",
    "\n",
    "# configure a post processor\n",
    "similarity_processor = SimilarityPostprocessor(similarity_cutoff=0.42)\n",
    "\n",
    "# configure a response sythesizer\n",
    "response_synthsizer = get_response_synthesizer(llm=Settings.llm)\n",
    "\n",
    "# create a query engine\n",
    "default_query_engine_from_docs = RetrieverQueryEngine(\n",
    "    retriever=retriever_from_docs,\n",
    "    response_synthesizer=response_synthsizer,\n",
    "    node_postprocessors=[similarity_processor],\n",
    ")\n",
    "# create a query engine\n",
    "default_query_engine_from_nodes = RetrieverQueryEngine(\n",
    "    retriever=retriever_from_nodes,\n",
    "    response_synthesizer=response_synthsizer,\n",
    "    node_postprocessors=[similarity_processor],\n",
    ")"
   ]
  },
  {
   "cell_type": "markdown",
   "metadata": {},
   "source": [
    "### Querying (Vector)"
   ]
  },
  {
   "cell_type": "code",
   "execution_count": 13,
   "metadata": {},
   "outputs": [
    {
     "name": "stdout",
     "output_type": "stream",
     "text": [
      "According to the context information, the capacity for PEB241T is 220g and 320g, and for PEB347T, it is not mentioned.\n",
      "The capacity for PEB241T is 220g and 320g, and the capacity for PEB347T is also 220g and 320g.\n"
     ]
    }
   ],
   "source": [
    "# Querying\n",
    "print(default_query_engine_from_docs.query(query).response)\n",
    "print(default_query_engine_from_nodes.query(query).response)"
   ]
  },
  {
   "cell_type": "markdown",
   "metadata": {},
   "source": [
    "### Retrieval (BM25)"
   ]
  },
  {
   "cell_type": "code",
   "execution_count": 8,
   "metadata": {},
   "outputs": [
    {
     "name": "stdout",
     "output_type": "stream",
     "text": [
      "resource module not available on Windows\n"
     ]
    }
   ],
   "source": [
    "from llama_index.retrievers.bm25 import BM25Retriever\n",
    "\n",
    "bm25_retriever_from_nodes = BM25Retriever.from_defaults(docstore=index_from_nodes.docstore, similarity_top_k=10)\n",
    "bm25_retriever_from_docs = BM25Retriever.from_defaults(docstore=index_from_docs.docstore, similarity_top_k=10)"
   ]
  },
  {
   "cell_type": "markdown",
   "metadata": {},
   "source": [
    "### Query Engine (BM25)"
   ]
  },
  {
   "cell_type": "code",
   "execution_count": 14,
   "metadata": {},
   "outputs": [],
   "source": [
    "from llama_index.core import get_response_synthesizer\n",
    "from llama_index.core.query_engine import RetrieverQueryEngine\n",
    "from llama_index.core.postprocessor import SimilarityPostprocessor\n",
    "\n",
    "# configure a post processor\n",
    "similarity_processor = SimilarityPostprocessor(similarity_cutoff=0.42)\n",
    "\n",
    "# configure a response sythesizer\n",
    "response_synthsizer = get_response_synthesizer(llm=Settings.llm)\n",
    "\n",
    "# create a query engine\n",
    "bm25_query_engine_from_docs = RetrieverQueryEngine(\n",
    "    retriever=bm25_retriever_from_docs,\n",
    "    response_synthesizer=response_synthsizer,\n",
    "    node_postprocessors=[similarity_processor],\n",
    ")\n",
    "# create a query engine\n",
    "bm25_query_engine_from_nodes = RetrieverQueryEngine(\n",
    "    retriever=bm25_retriever_from_nodes,\n",
    "    response_synthesizer=response_synthsizer,\n",
    "    node_postprocessors=[similarity_processor],\n",
    ")"
   ]
  },
  {
   "cell_type": "markdown",
   "metadata": {},
   "source": [
    "### Querying (BM25)"
   ]
  },
  {
   "cell_type": "code",
   "execution_count": 15,
   "metadata": {},
   "outputs": [
    {
     "name": "stdout",
     "output_type": "stream",
     "text": [
      "The capacity for PEB241T is 220g and the capacity for PEB347T is 320g.\n",
      "The capacity for PEB241T is 220g and 320g, and for PEB347T it is also 220g and 320g.\n"
     ]
    }
   ],
   "source": [
    "# Querying\n",
    "print(bm25_query_engine_from_docs.query(query).response)\n",
    "print(bm25_query_engine_from_nodes.query(query).response)"
   ]
  },
  {
   "cell_type": "markdown",
   "metadata": {},
   "source": [
    "### Retrieval (Hybrid)"
   ]
  },
  {
   "cell_type": "code",
   "execution_count": 23,
   "metadata": {},
   "outputs": [],
   "source": [
    "from llama_index.core.retrievers import QueryFusionRetriever\n",
    "\n",
    "hybrid_retriever_from_docs = QueryFusionRetriever(\n",
    "    [bm25_query_engine_from_docs, retriever_from_docs],\n",
    "    similarity_top_k=10,\n",
    "    num_queries=1,\n",
    "    mode=\"reciprocal_rerank\",\n",
    "    use_async=True,\n",
    "    verbose=True,\n",
    ")\n",
    "hybrid_retriever_from_nodes = QueryFusionRetriever(\n",
    "    [bm25_query_engine_from_nodes, retriever_from_nodes],\n",
    "    similarity_top_k=10,\n",
    "    mode=\"reciprocal_rerank\",\n",
    "    num_queries=1,\n",
    "    use_async=True,\n",
    "    verbose=True,\n",
    ")"
   ]
  },
  {
   "cell_type": "markdown",
   "metadata": {},
   "source": [
    "### Query Engine (Hybrid)"
   ]
  },
  {
   "cell_type": "code",
   "execution_count": 24,
   "metadata": {},
   "outputs": [],
   "source": [
    "from llama_index.core import get_response_synthesizer\n",
    "from llama_index.core.query_engine import RetrieverQueryEngine\n",
    "from llama_index.core.postprocessor import SimilarityPostprocessor\n",
    "\n",
    "# configure a post processor\n",
    "similarity_processor = SimilarityPostprocessor(similarity_cutoff=0.02)\n",
    "\n",
    "# configure a response sythesizer\n",
    "response_synthsizer = get_response_synthesizer(llm=Settings.llm)\n",
    "\n",
    "# create a query engine\n",
    "hybrid_query_engine_from_docs = RetrieverQueryEngine(\n",
    "    retriever=hybrid_retriever_from_docs,\n",
    "    response_synthesizer=response_synthsizer,\n",
    "    node_postprocessors=[similarity_processor],\n",
    ")\n",
    "# create a query engine\n",
    "hybrid_query_engine_from_nodes = RetrieverQueryEngine(\n",
    "    retriever=hybrid_retriever_from_nodes,\n",
    "    response_synthesizer=response_synthsizer,\n",
    "    node_postprocessors=[similarity_processor],\n",
    ")"
   ]
  },
  {
   "cell_type": "markdown",
   "metadata": {},
   "source": [
    "### Querying (Hybrid)"
   ]
  },
  {
   "cell_type": "code",
   "execution_count": 25,
   "metadata": {},
   "outputs": [
    {
     "name": "stdout",
     "output_type": "stream",
     "text": [
      "The capacity for PEB241T is 220g and the capacity for PEB347T is 320g.\n",
      "The capacity for PEB241T is 220g and the capacity for PEB347T is 320g.\n"
     ]
    }
   ],
   "source": [
    "# Querying\n",
    "print(hybrid_query_engine_from_docs.query(query).response)\n",
    "print(hybrid_query_engine_from_nodes.query(query).response)"
   ]
  },
  {
   "cell_type": "code",
   "execution_count": null,
   "metadata": {},
   "outputs": [],
   "source": []
  }
 ],
 "metadata": {
  "kernelspec": {
   "display_name": ".venv",
   "language": "python",
   "name": "python3"
  },
  "language_info": {
   "codemirror_mode": {
    "name": "ipython",
    "version": 3
   },
   "file_extension": ".py",
   "mimetype": "text/x-python",
   "name": "python",
   "nbconvert_exporter": "python",
   "pygments_lexer": "ipython3",
   "version": "3.12.6"
  }
 },
 "nbformat": 4,
 "nbformat_minor": 2
}
