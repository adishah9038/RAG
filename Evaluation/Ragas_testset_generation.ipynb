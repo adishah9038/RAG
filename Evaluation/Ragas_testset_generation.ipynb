{
 "cells": [
  {
   "cell_type": "markdown",
   "metadata": {},
   "source": [
    "### Os, Sync, Env"
   ]
  },
  {
   "cell_type": "code",
   "execution_count": 1,
   "metadata": {},
   "outputs": [],
   "source": [
    "import os\n",
    "import dotenv\n",
    "dotenv.load_dotenv(dotenv_path=\"../.env\")\n",
    "import nest_asyncio\n",
    "nest_asyncio.apply()"
   ]
  },
  {
   "cell_type": "markdown",
   "metadata": {},
   "source": [
    "### Lading docs from llama index persisted doc_store"
   ]
  },
  {
   "cell_type": "code",
   "execution_count": 2,
   "metadata": {},
   "outputs": [],
   "source": [
    "from llama_index.core.storage.docstore import SimpleDocumentStore\n",
    "docstore = SimpleDocumentStore.from_persist_dir(persist_dir=\"D:/Learning New/GenAI/Project_RAG/RAG/Data_cleaning/doc_store\")\n",
    "documents = list(docstore.docs.values())"
   ]
  },
  {
   "cell_type": "markdown",
   "metadata": {},
   "source": [
    "### Converting to Langchain Document format"
   ]
  },
  {
   "cell_type": "code",
   "execution_count": 3,
   "metadata": {},
   "outputs": [],
   "source": [
    "from langchain.schema import Document\n",
    "langchain_docs = [Document(page_content=doc.text, metadata=doc.metadata) for doc in documents]"
   ]
  },
  {
   "cell_type": "markdown",
   "metadata": {},
   "source": [
    "### Azure Configuration"
   ]
  },
  {
   "cell_type": "code",
   "execution_count": 4,
   "metadata": {},
   "outputs": [],
   "source": [
    "import os\n",
    "azure_api_key = os.environ[\"AZURE_OPENAI_API_KEY\"]\n",
    "azure_base_url = os.environ[\"AZURE_BASE_URL\"]\n",
    "\n",
    "azure_configs = {\n",
    "    \"azure_api_key\":azure_api_key,\n",
    "    \"base_url\": azure_base_url,\n",
    "    \"generator_model_deployment\": \"gpt-4o-mini\", \n",
    "    \"generator_model_name\": \"gpt-4o-mini\",\n",
    "    \"embedding_deployment\": \"text-embedding-ada-002\",\n",
    "    \"embedding_name\": \"text-embedding-ada-002\",\n",
    "    \"evaluator_model_name\": \"gpt-35-turbo-16k\",\n",
    "    \"evaluator_model_deployment\": \"gpt-35-turbo-16k\"\n",
    "}"
   ]
  },
  {
   "cell_type": "markdown",
   "metadata": {},
   "source": [
    "### LLMs & Embedding Model"
   ]
  },
  {
   "cell_type": "code",
   "execution_count": 5,
   "metadata": {},
   "outputs": [
    {
     "name": "stderr",
     "output_type": "stream",
     "text": [
      "d:\\Learning New\\GenAI\\Project_RAG\\RAG\\.venv\\Lib\\site-packages\\tqdm\\auto.py:21: TqdmWarning: IProgress not found. Please update jupyter and ipywidgets. See https://ipywidgets.readthedocs.io/en/stable/user_install.html\n",
      "  from .autonotebook import tqdm as notebook_tqdm\n"
     ]
    }
   ],
   "source": [
    "from langchain_openai import AzureChatOpenAI\n",
    "from langchain_openai import AzureOpenAIEmbeddings\n",
    "from ragas.llms import LangchainLLMWrapper\n",
    "from ragas.embeddings import LangchainEmbeddingsWrapper\n",
    "generator_llm = LangchainLLMWrapper(AzureChatOpenAI(\n",
    "    openai_api_version=\"2023-05-15\",\n",
    "    azure_endpoint=azure_configs[\"base_url\"],\n",
    "    azure_deployment=azure_configs[\"generator_model_deployment\"],\n",
    "    model=azure_configs[\"generator_model_name\"],\n",
    "    validate_base_url=False,\n",
    "))\n",
    "generator_embeddings = LangchainEmbeddingsWrapper(AzureOpenAIEmbeddings(\n",
    "    openai_api_version=\"2023-05-15\",\n",
    "    azure_endpoint=azure_configs[\"base_url\"],\n",
    "    azure_deployment=azure_configs[\"embedding_deployment\"],\n",
    "    model=azure_configs[\"embedding_name\"],\n",
    "))"
   ]
  },
  {
   "cell_type": "markdown",
   "metadata": {},
   "source": [
    "### Testset generation"
   ]
  },
  {
   "cell_type": "code",
   "execution_count": 6,
   "metadata": {},
   "outputs": [
    {
     "name": "stderr",
     "output_type": "stream",
     "text": [
      "Generating personas: 100%|██████████| 3/3 [00:01<00:00,  1.98it/s]                                             \n",
      "Generating Scenarios: 100%|██████████| 2/2 [02:00<00:00, 60.40s/it] \n",
      "Generating Samples: 100%|██████████| 10/10 [01:03<00:00,  6.30s/it]\n"
     ]
    }
   ],
   "source": [
    "from ragas.testset import TestsetGenerator\n",
    "\n",
    "generator = TestsetGenerator(llm=generator_llm, embedding_model=generator_embeddings)\n",
    "dataset = generator.generate_with_langchain_docs(langchain_docs, testset_size=10)"
   ]
  },
  {
   "cell_type": "markdown",
   "metadata": {},
   "source": [
    "### Convert to evaluation dataset"
   ]
  },
  {
   "cell_type": "code",
   "execution_count": 9,
   "metadata": {},
   "outputs": [
    {
     "name": "stdout",
     "output_type": "stream",
     "text": [
      "                                          user_input  \\\n",
      "0                  What products have 0.1mg in them?   \n",
      "1  What is the range of the temperature setting f...   \n",
      "2  Can you elaborate on the specifications and fe...   \n",
      "3                 Wht is the pan size of the device?   \n",
      "4  What is the maximum temperature for operating ...   \n",
      "5  What are the operating temperature specificati...   \n",
      "6  Wht are the power supply requirements for the ...   \n",
      "7  What is the difference in repeatability betwee...   \n",
      "8  What are the readability specifications for th...   \n",
      "9  What are the differences in readability and re...   \n",
      "\n",
      "                                           reference  \n",
      "0  The products that have 0.1mg in them are the M...  \n",
      "1  The temperature setting for the device is 40°C...  \n",
      "2  The analytical device classified under HSN: 90...  \n",
      "3                The pan size of the device is 90mm.  \n",
      "4  The maximum operating temperature for the devi...  \n",
      "5  Both analytical devices mentioned in the conte...  \n",
      "6  The halogen heating system requires a power su...  \n",
      "7  The first weighing device has a repeatability ...  \n",
      "8  The analytical balance has a readability speci...  \n",
      "9  The first analytical device has a readability ...  \n"
     ]
    }
   ],
   "source": [
    "dataset_eval = dataset.to_evaluation_dataset()\n",
    "df = dataset_eval.to_pandas()\n",
    "df = df.drop(columns=['reference_contexts'])\n",
    "print(df)"
   ]
  },
  {
   "cell_type": "markdown",
   "metadata": {},
   "source": [
    "### Save"
   ]
  },
  {
   "cell_type": "code",
   "execution_count": 11,
   "metadata": {},
   "outputs": [],
   "source": [
    "df.to_csv(\"D:/Learning New/GenAI/Project_RAG/RAG/1. Data/evaluator2_10.csv\",index=False)"
   ]
  }
 ],
 "metadata": {
  "kernelspec": {
   "display_name": ".venv",
   "language": "python",
   "name": "python3"
  },
  "language_info": {
   "codemirror_mode": {
    "name": "ipython",
    "version": 3
   },
   "file_extension": ".py",
   "mimetype": "text/x-python",
   "name": "python",
   "nbconvert_exporter": "python",
   "pygments_lexer": "ipython3",
   "version": "3.12.6"
  }
 },
 "nbformat": 4,
 "nbformat_minor": 2
}
